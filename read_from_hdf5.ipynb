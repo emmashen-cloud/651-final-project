{
 "cells": [
  {
   "cell_type": "code",
   "execution_count": 0,
   "metadata": {
    "autoscroll": "auto"
   },
   "outputs": [],
   "source": [
    "%spark.pyspark\n",
    "import h5py\n",
    "import tables\n",
    "import os\n",
    "import sys\n",
    "sys.path.insert(0, \"/home/hadoop/final_project\")\n",
    "from hdf5_getters import *\n",
    "from pyspark.ml.feature import VectorAssembler\n",
    "from pyspark.ml.clustering import KMeans\n",
    "from pyspark.ml.evaluation import ClusteringEvaluator\n",
    "from pyspark.ml import Pipeline"
   ]
  },
  {
   "cell_type": "code",
   "execution_count": 1,
   "metadata": {
    "autoscroll": "auto"
   },
   "outputs": [],
   "source": [
    "%spark.pyspark\n",
    "def getListOfFiles(dirName):\n",
    "    # create a list of file and sub directories \n",
    "    # names in the given directory \n",
    "    listOfFile = os.listdir(dirName)\n",
    "    allFiles = list()\n",
    "    # Iterate over all the entries\n",
    "    for entry in listOfFile:\n",
    "        # Create full path\n",
    "        fullPath = os.path.join(dirName, entry)\n",
    "        # If entry is a directory then get the list of files in this directory \n",
    "        if os.path.isdir(fullPath):\n",
    "            allFiles = allFiles + getListOfFiles(fullPath)\n",
    "        else:\n",
    "            allFiles.append(fullPath)\n",
    "                \n",
    "    return allFiles\n",
    "\n",
    "\n",
    "def read_h5_to_list(filename):\n",
    "    import sys\n",
    "    import h5py\n",
    "    import tables\n",
    "    sys.path.insert(0, \"/home/hadoop/final_project\")\n",
    "    from hdf5_getters import *\n",
    "    h5tocopy = open_h5_file_read(filename)\n",
    "    song_num = get_num_songs(h5tocopy)\n",
    "    result = []\n",
    "    for songidx in range(song_num):\n",
    "        song_info = []\n",
    "        # METADATA\n",
    "        song_info.append(float(get_artist_familiarity(h5tocopy,songidx)))\n",
    "        song_info.append(float(get_artist_hotttnesss(h5tocopy,songidx)))\n",
    "        song_info.append(str(get_artist_id(h5tocopy,songidx)))\n",
    "        song_info.append(str(get_artist_location(h5tocopy,songidx)))\n",
    "        song_info.append(get_artist_mbtags(h5tocopy,songidx).tolist())\n",
    "        song_info.append(get_artist_mbtags_count(h5tocopy,songidx).tolist())\n",
    "        song_info.append(str(get_artist_name(h5tocopy,songidx)))\n",
    "        song_info.append(get_artist_terms(h5tocopy,songidx).tolist())\n",
    "        song_info.append(get_artist_terms_freq(h5tocopy,songidx).tolist())\n",
    "        song_info.append(get_artist_terms_weight(h5tocopy,songidx).tolist())\n",
    "        song_info.append(float(get_danceability(h5tocopy,songidx)))\n",
    "        song_info.append(float(get_duration(h5tocopy,songidx)))\n",
    "        song_info.append(float(get_end_of_fade_in(h5tocopy,songidx)))\n",
    "        song_info.append(float(get_energy(h5tocopy,songidx)))\n",
    "        song_info.append(float(get_key(h5tocopy,songidx)))\n",
    "        song_info.append(float(get_key_confidence(h5tocopy,songidx)))\n",
    "        song_info.append(float(get_loudness(h5tocopy,songidx)))\n",
    "        song_info.append(float(get_mode(h5tocopy,songidx)))\n",
    "        song_info.append(float(get_mode_confidence(h5tocopy,songidx)))\n",
    "        song_info.append(str(get_release(h5tocopy,songidx)))\n",
    "        song_info.append(get_segments_confidence(h5tocopy,songidx).tolist())        \n",
    "        song_info.append(get_segments_loudness_max(h5tocopy,songidx).tolist())        \n",
    "        song_info.append(get_segments_loudness_max_time(h5tocopy,songidx).tolist())    \n",
    "        song_info.append(get_segments_pitches(h5tocopy,songidx).tolist())    \n",
    "        song_info.append(get_segments_timbre(h5tocopy,songidx).tolist())    \n",
    "        song_info.append(get_similar_artists(h5tocopy,songidx).tolist())   \n",
    "        song_info.append(float(get_artist_hotttnesss(h5tocopy,songidx)))\n",
    "        song_info.append(str(get_song_id(h5tocopy,songidx)))\n",
    "        song_info.append(float(get_start_of_fade_out(h5tocopy,songidx)))\n",
    "        song_info.append(float(get_tempo(h5tocopy,songidx)))\n",
    "        song_info.append(int(get_time_signature(h5tocopy,songidx)))\n",
    "        song_info.append(float(get_time_signature_confidence(h5tocopy,songidx)))\n",
    "        song_info.append(str(get_title(h5tocopy,songidx)))\n",
    "        song_info.append(str(get_track_id(h5tocopy,songidx)))\n",
    "        song_info.append(int(get_year(h5tocopy,songidx)))\n",
    "\n",
    "        result.append(song_info)\n",
    "    h5tocopy.close()\n",
    "    return result"
   ]
  },
  {
   "cell_type": "code",
   "execution_count": 2,
   "metadata": {
    "autoscroll": "auto"
   },
   "outputs": [],
   "source": [
    "%spark.pyspark\n",
    "sc._jsc.hadoopConfiguration().set(\"fs.s3a.access.key\", ACCESS_KEY)\n",
    "sc._jsc.hadoopConfiguration().set(\"fs.s3a.secret.key\", SECRET_KEY)\n",
    "sc._jsc.hadoopConfiguration().set(\"fs.s3a.endpoint\", \"s3.amazonaws.com\")"
   ]
  },
  {
   "cell_type": "code",
   "execution_count": 3,
   "metadata": {
    "autoscroll": "auto"
   },
   "outputs": [],
   "source": [
    "%spark.pyspark\n",
    "    \n",
    "num_nodes = 2*4*4\n",
    "\n",
    "data_path = '/mnt/snap/data'\n",
    "filenames = getListOfFiles(data_path)\n",
    "rdd = sc.parallelize(filenames, num_nodes)\n",
    "rdd1 = rdd.flatMap(lambda x: read_h5_to_list(x))\n",
    "col_name = [\"artist_familiarity\", \"artist_hotttnesss\", \"artist_id\", \"artist_location\", \"artist_mbtags\", \n",
    " \"artist_mbtags_count\", \"artist_name\", \"artist_terms\", \"artist_terms_freq\", \"artist_terms_weight\", \n",
    " \"danceability\", \"duration\", \"end_of_fade_in\", \"energy\", \"key\",\n",
    "\"key_confidence\", \"loudness\", \"mode\", \"mode_confidence\", \"release\", \n",
    " \"segments_confidence\", \"segments_loudness_max\", \"segments_loudness_max_time\", \n",
    "\"segments_pitches\", \"segments_timbre\", \"similar_artists\", \n",
    "\"song_hotttnesss\", \"song_id\", \"start_of_fade_out\", \"tempo\", \"time_signature\", \n",
    "\"time_signature_confidence\", \"title\", \"track_id\", \"year\"]\n",
    "\n",
    "df = rdd1.toDF(col_name)\n"
   ]
  },
  {
   "cell_type": "code",
   "execution_count": 5,
   "metadata": {
    "autoscroll": "auto"
   },
   "outputs": [],
   "source": [
    "sc.hadoopConfiguration.set(\"fs.s3a.access.key\", ACCESS_KEY)\n",
    "sc.hadoopConfiguration.set(\"fs.s3a.secret.key\", SECRET_KEY)\n",
    "sc.hadoopConfiguration.set(\"fs.s3a.endpoint\", \"s3.amazonaws.com\")\n",
    "df.write.mode(\"overwrite\").parquet(\"s3a://msdbucket/parquet\")\n"
   ]
  },
  {
   "cell_type": "code",
   "execution_count": 7,
   "metadata": {
    "autoscroll": "auto"
   },
   "outputs": [],
   "source": [
    "%spark.pyspark\n",
    "from pyspark.sql import SQLContext\n",
    "sqlContext = SQLContext(sc)\n",
    "dfParquet = sqlContex.read.parquet(\"s3a://msdbucket/parquet\")"
   ]
  }
 ],
 "metadata": {
  "kernelspec": {
   "display_name": "Python 3",
   "language": "python",
   "name": "python3"
  },
  "language_info": {
   "codemirror_mode": {
    "name": "ipython",
    "version": 3
   },
   "file_extension": ".py",
   "mimetype": "text/x-python",
   "name": "python",
   "nbconvert_exporter": "python",
   "pygments_lexer": "ipython3",
   "version": "3.8.5"
  }
 },
 "nbformat": 4,
 "nbformat_minor": 2
}
